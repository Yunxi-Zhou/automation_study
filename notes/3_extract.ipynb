{
 "cells": [
  {
   "metadata": {},
   "cell_type": "markdown",
   "source": [
    "# 3. Application: Regex and JsonPath Extractor 正则和Jsonpath提取器应用\n",
    "\n",
    "# Interface Documents\n",
    "requests: request method, url, parameters, head\n",
    "response: response code, contents, information, head\n",
    "\n",
    "# Interface automation: three method for implementing interface association\n",
    "1. Use global variables to store the response data from one API and reuse it in subsequents APIs\n",
    "2. Save API responses in a database or file for later use\n",
    "3. To achieve extreme encapsulation for interface association with regular expression\n",
    "(3. 极限封装成和工具一样只需要正则表达式就可以实现接口关联)\n",
    "\n",
    "# Interface automation: two method to extract variables\n",
    "1. JSON-Based Extraction (JsonPath): used for extracting the json result\n",
    "2. Regular Expression(Regex) Extraction: used for extracting the regular text result\n",
    "3. re.search() -- get a value\n",
    "4. re.findall() -- many values\n",
    "\n",
    "# rule of jsonpath expression:\n",
    "    $ root node\n",
    "    . child node (sub-node) -> $.access_token\n",
    "    .. recursion achieve child node\n",
    "    [] represent get the value of list, start at 0 -> [{id:0}, {id:1}, {id:2}]\n",
    "\n"
   ],
   "id": "94f8e41fd98fb04e"
  },
  {
   "metadata": {},
   "cell_type": "markdown",
   "source": [
    "#  Difference between data and json\n",
    "\n",
    "depends on the type of parameters that you need to pass\n",
    "\n",
    "files: upload files\n",
    "\n",
    "postman: |-| from data |-| x.www-form-urlencoded |-| raw |-| binary\n",
    "\n",
    "1. form-data: upload form and data\n",
    "2. x.www-form-urlencoded: only form\n",
    "3. raw: json\n",
    "4. binary: translate the file to binary file transmit"
   ],
   "id": "dd88fa2f1ca54c13"
  }
 ],
 "metadata": {
  "kernelspec": {
   "display_name": "Python 3",
   "language": "python",
   "name": "python3"
  },
  "language_info": {
   "codemirror_mode": {
    "name": "ipython",
    "version": 2
   },
   "file_extension": ".py",
   "mimetype": "text/x-python",
   "name": "python",
   "nbconvert_exporter": "python",
   "pygments_lexer": "ipython2",
   "version": "2.7.6"
  }
 },
 "nbformat": 4,
 "nbformat_minor": 5
}
