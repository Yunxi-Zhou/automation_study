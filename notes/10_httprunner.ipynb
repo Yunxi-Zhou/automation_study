{
 "cells": [
  {
   "metadata": {},
   "cell_type": "markdown",
   "source": [
    "# Overview\n",
    "1. httprunner 接口自动化框架设计理论\n",
    "2. httprunner testcases\n",
    "3. httprunner 接口自动化框架实现接口关联\n",
    "# 什么是httprunner\n",
    "1. 面向http协议的测试框架 -- junit, testing, unittest, pytest, httprunner, robotframework -- 只需要去维护一份yaml/json文件就可以使用自动化测试，结合locust实现性能测试，线上性能监控，持续集成等多种需求。devops\n",
    "2. 两个版本：2.x and 3.x\n",
    "# 设计思想和理念\n",
    "1. 重复复用开源文件\n",
    "2. 约定大于配置(提升测试脚本的可维护性)\n",
    "3. 配置文件组织测试用例(yaml/json)\n",
    "4. 一次投入，多次使用\n",
    "5. 高度可扩展性\n",
    "# HttpRunner 环境搭建 (Only Python 3.10)\n",
    "1. pip install httprunner\n",
    "2. pip install har2case"
   ],
   "id": "63252e78ee64e024"
  }
 ],
 "metadata": {
  "kernelspec": {
   "display_name": "Python 3",
   "language": "python",
   "name": "python3"
  },
  "language_info": {
   "codemirror_mode": {
    "name": "ipython",
    "version": 2
   },
   "file_extension": ".py",
   "mimetype": "text/x-python",
   "name": "python",
   "nbconvert_exporter": "python",
   "pygments_lexer": "ipython2",
   "version": "2.7.6"
  }
 },
 "nbformat": 4,
 "nbformat_minor": 5
}
