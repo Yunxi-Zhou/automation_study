{
 "cells": [
  {
   "metadata": {},
   "cell_type": "markdown",
   "source": [
    "# yaml\n",
    "<br>\n",
    "数据类型，支持注释#，换行，字符串<br>\n",
    "作用：<br>\n",
    "\n",
    "1. 用于配置文件\n",
    "2. 用于testcase\n",
    "# data structure\n",
    "1. map object: {} key value. name:(space)value\n",
    "2. list object: [], use \"-\" as begin\n"
   ],
   "id": "ae79087cb7316f22"
  },
  {
   "metadata": {},
   "cell_type": "code",
   "outputs": [],
   "execution_count": null,
   "source": [
    "- name1: xx\n",
    "- name2: xxx\n",
    "- name3: xxxx"
   ],
   "id": "1c67c15ff4809c1e"
  },
  {
   "metadata": {},
   "cell_type": "markdown",
   "source": [
    "translate with json\n",
    "<br>\n",
    "# read and write\n",
    "pyyaml module <br>\n",
    "design testcase feature <br>\n",
    "# 2. 数据驱动\n",
    "通过修改数据从而去驱动测试用例的执行，从而得到不同的结果，一组数据执行一个用例，多组多用例。<br>\n",
    "pytest 数据驱动装饰器<br>\n",
    "@pytest.mark.parametrize(params,params value in <list tuple> <br>\n",
    "# 3. 发现问题\n",
    "1. yaml等数据驱动如何调用python函数\n",
    "2. 接口关联处理\n",
    "3. 文件上传处理\n",
    "4. 常规断言和数据库断言\n",
    "# 多个测试用例的区别\n",
    "1. yaml文件名不一样\n",
    "2. 需要提取变量在主py文件提取\n",
    "3. 处理关联，处理文件上传"
   ],
   "id": "4cd18c53a469c528"
  }
 ],
 "metadata": {},
 "nbformat": 5,
 "nbformat_minor": 9
}
