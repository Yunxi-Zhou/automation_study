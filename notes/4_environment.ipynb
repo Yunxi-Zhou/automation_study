{
 "cells": [
  {
   "metadata": {},
   "cell_type": "markdown",
   "source": [
    "作用\n",
    "1. 找到用例\n",
    "    模块名必须以test_开头或者_test结尾\n",
    "    类名必须以Test开头，不能有init\n",
    "    用例方法必须以test开头\n",
    "2. 执行用例\n",
    "3. 判断结果\n",
    "4. 生成报告"
   ],
   "id": "5e4774ba7966b82"
  },
  {
   "metadata": {},
   "cell_type": "code",
   "outputs": [],
   "execution_count": null,
   "source": [
    "# extension\n",
    "pytest 本身\n",
    "pytest-html 简单的html报告\n",
    "pytest-xdist 多线程执行\n",
    "pytest-ordering 控制用例的执行顺序\n",
    "pytest-rerunfailures 失败用例重跑\n",
    "pytest-base-url 设置基础路径 (开发，测试，生产，预发布)\n",
    "allure-pytest 生成allure报告\n",
    "# install -> pip3 install -r requirements.txt"
   ],
   "id": "d0c595e657929fd8"
  },
  {
   "metadata": {},
   "cell_type": "markdown",
   "source": "",
   "id": "57a5eaab9164d62f"
  }
 ],
 "metadata": {
  "kernelspec": {
   "display_name": "Python 3",
   "language": "python",
   "name": "python3"
  },
  "language_info": {
   "codemirror_mode": {
    "name": "ipython",
    "version": 2
   },
   "file_extension": ".py",
   "mimetype": "text/x-python",
   "name": "python",
   "nbconvert_exporter": "python",
   "pygments_lexer": "ipython2",
   "version": "2.7.6"
  }
 },
 "nbformat": 4,
 "nbformat_minor": 5
}
