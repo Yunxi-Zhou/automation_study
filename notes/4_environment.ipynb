{
 "cells": [
  {
   "metadata": {},
   "cell_type": "markdown",
   "source": [
    "作用\n",
    "1. 找到用例\n",
    "    模块名必须以test_开头或者_test结尾\n",
    "    类名必须以Test开头，不能有init\n",
    "    用例方法必须以test开头\n",
    "2. 执行用例\n",
    "3. 判断结果\n",
    "4. 生成报告"
   ],
   "id": "5e4774ba7966b82"
  },
  {
   "metadata": {},
   "cell_type": "code",
   "outputs": [],
   "execution_count": null,
   "source": [
    "# extension\n",
    "pytest 本身\n",
    "pytest-html 简单的html报告\n",
    "pytest-xdist 多线程执行\n",
    "pytest-ordering 控制用例的执行顺序\n",
    "pytest-rerunfailures 失败用例重跑\n",
    "pytest-base-url 设置基础路径 (开发，测试，生产，预发布)\n",
    "allure-pytest 生成allure报告\n",
    "# install -> pip3 install -r requirements.txt"
   ],
   "id": "d0c595e657929fd8"
  },
  {
   "metadata": {},
   "cell_type": "markdown",
   "source": [
    "# 3. 使用fixtrue固件结合contest.py文件实现前后置\n",
    "装饰器: <br>\n",
    "@pytest.fixture(scope=\"作用范围\", autouser=\"自动执行\", params=\"参数化\", ids=\"参数别名\", name=\"固件别名\") <br>\n",
    "scope: function 函数 <br>\n",
    "scope: class 类 <br>\n",
    "scope: module 模块 <br>\n",
    "scope: session 回话<br>\n",
    "<br>\n",
    "fixture只在当前文件起作用，需要结合conftest.py"
   ],
   "id": "57a5eaab9164d62f"
  },
  {
   "metadata": {},
   "cell_type": "code",
   "outputs": [],
   "execution_count": null,
   "source": [
    "import pytest\n",
    "\n",
    "# fixture 固件\n",
    "@pytest.fixture(scope=\"session\",autouse=False,params=[[\"zhouy218\",\"136671\"],[\"beifan\",\"beifan123\"]],ids=[\"data1\",\"data2\"], name=\"sql\")\n",
    "def exe_sql(request):\n",
    "    print(\"before: execute database\")\n",
    "    yield request.param\n",
    "    print(\"After: close database\")"
   ],
   "id": "9aff837261f5a131"
  },
  {
   "metadata": {},
   "cell_type": "markdown",
   "source": [
    "# 4. 接口自动化测试框架封装之通过文件接口关联实现\n",
    "原因: <br>\n",
    "1. 类变量不能跨py文件使用\n",
    "2. 统一管理中间变量\n",
    "<br> <br>\n",
    "什么时候clear <br> 请求之前，原因: 保留鉴权码 <br>\n",
    "# Jmeter工具做不到:\n",
    "1. RSA，签名，自定义加密，混合加密\n",
    "2. 生成美观报告\n",
    "3. 复用，扩展性\n",
    "4. 团队协作\n",
    "# Tool -> frame -> 平台\n",
    "\n"
   ],
   "id": "a8ca7d4aaadcac70"
  },
  {
   "metadata": {},
   "cell_type": "code",
   "outputs": [],
   "execution_count": null,
   "source": "",
   "id": "3edff3f8888e2d80"
  }
 ],
 "metadata": {
  "kernelspec": {
   "display_name": "Python 3",
   "language": "python",
   "name": "python3"
  },
  "language_info": {
   "codemirror_mode": {
    "name": "ipython",
    "version": 2
   },
   "file_extension": ".py",
   "mimetype": "text/x-python",
   "name": "python",
   "nbconvert_exporter": "python",
   "pygments_lexer": "ipython2",
   "version": "2.7.6"
  }
 },
 "nbformat": 4,
 "nbformat_minor": 5
}
