{
 "cells": [
  {
   "metadata": {},
   "cell_type": "markdown",
   "source": [
    "# part 1 of automation test\n",
    "# send request"
   ],
   "id": "a08326078c81ac1a"
  },
  {
   "metadata": {},
   "cell_type": "code",
   "outputs": [],
   "execution_count": null,
   "source": [
    "import requests as req\n",
    "\n",
    "req.get(url, params=None, **kwargs)\n",
    "# url: URL for the new :class:`Request` object.\n",
    "# params: (optional) Dictionary, list of tuples or bytes to send in the query string for the :class:`Request`.\n",
    "# \\*\\*kwargs: Optional arguments that ``request`` takes.\n",
    "req.post(url, data=None, json=None, **kwargs)\n",
    "# url – URL for the new :class:`Request` object.\n",
    "# data – (optional) Dictionary, list of tuples, bytes, or file-like object to send in the body of the :class:`Request`.\n",
    "# json – (optional) A JSON serializable Python object to send in the body of the :class:`Request`.\n",
    "req.put(url, data=None, **kwargs)\n",
    "# url – URL for the new :class:`Request` object.\n",
    "# data – (optional) Dictionary, list of tuples, bytes, or file-like object to send in the body of the :class:`Request`.\n",
    "req.delete(url, **kwargs)\n",
    "# url – URL for the new :class:`Request` object.\n",
    "\n",
    "# The above method internally calls the `request` method\n",
    "\n",
    "req.request(method, url, **kwargs)\n",
    "# method – method for the new :class:`Request` object: GET, OPTIONS, HEAD, POST, PUT, PATCH, or DELETE.\n",
    "# url – URL for the new :class:`Request` object.\n",
    "\n",
    "# `request` method calls the method below (Automatically associating interfaces with cookie associations)\n",
    "session.request(method=method, url=url, **kwargs)\n",
    "'''\n",
    "method,  call for method方式\n",
    "url,  call for url路径\n",
    "params=None,  get() call for parameters\n",
    "data=None,  post(),put() call for parameters\n",
    "json = None, post() call for parameters\n",
    "headers=None,  call for headers\n",
    "cookies=None,  cookies  # cookie: 存储用户会话信息，比如登陆状态，用户标识\n",
    "files=None,  upload files\n",
    "-----------------------------------\n",
    "auth=None,  authentication #authentication: 鉴权，验证用户身份的过程， 确保请求者是其声称的身份\n",
    "timeout=None,  timeout handling\n",
    "allow_redirects=True,  whether redirects or not (是否重定向)\n",
    "proxies=None,  whether set proxies or not (是否设置代理)\n",
    "hooks=None,  hooks function\n",
    "stream=None, file download\n",
    "verify=None,  certification vertify (证书验证)\n",
    "cert=None,  CA certification\n",
    "'''\n",
    "\n",
    "'''\n",
    "Ex.1 req.get()\n",
    "step 1: req.get(url, params=None, **kwargs)\n",
    "step 2: req.request(method=GET, url_r=url, **kwargs=(params=None))\n",
    "step 3: session.request(method=GET, url_s=url_r, **kwargs=(params=None))\n",
    "'''\n",
    "\n",
    "'''\n",
    "Ex.2 req.post()\n",
    "step 1: req.post(url, data=None, json=None, **kwargs)\n",
    "step 2: req.request(method=POST, url_r=url, **kwargs=(data=None, json=None))\n",
    "step 3: session.request(method=POST, url_s=url_r, **kwargs=(data=None, json=None))\n",
    "'''\n",
    "\n",
    "# generate a session object\n",
    "req.session()"
   ],
   "id": "f00e1e7d9946ae2"
  }
 ],
 "metadata": {
  "kernelspec": {
   "display_name": "Python 3",
   "language": "python",
   "name": "python3"
  },
  "language_info": {
   "codemirror_mode": {
    "name": "ipython",
    "version": 2
   },
   "file_extension": ".py",
   "mimetype": "text/x-python",
   "name": "python",
   "nbconvert_exporter": "python",
   "pygments_lexer": "ipython2",
   "version": "2.7.6"
  }
 },
 "nbformat": 4,
 "nbformat_minor": 5
}
