{
 "cells": [
  {
   "metadata": {},
   "cell_type": "markdown",
   "source": [
    "# 2. response api\n",
    "# part 2 of automation test\n",
    "# receive response\n"
   ],
   "id": "43b681c6009a9473"
  },
  {
   "metadata": {},
   "cell_type": "code",
   "outputs": [],
   "execution_count": null,
   "source": [
    "import requests as req\n",
    "from certifi import contents\n",
    "\n",
    "res = req.get(url, params=None, **kwargs)\n",
    "print(res.text)  return text information\n",
    "print(res.json())  return .json\n",
    "print(res.content)  return byte contents\n",
    "print(res.status_code)  return status code\n",
    "print(res.reason) return reason information\n",
    "print(res.cookies)  return cookies\n",
    "print(res.encoding)  return encoding e.g: encoding('utf-8')\n",
    "print(res.headers)  return request headers\n",
    "print(res.request.(requests data))  return request data"
   ],
   "id": "527a2efa2f31e1c3"
  }
 ],
 "metadata": {
  "kernelspec": {
   "display_name": "Python 3",
   "language": "python",
   "name": "python3"
  },
  "language_info": {
   "codemirror_mode": {
    "name": "ipython",
    "version": 2
   },
   "file_extension": ".py",
   "mimetype": "text/x-python",
   "name": "python",
   "nbconvert_exporter": "python",
   "pygments_lexer": "ipython2",
   "version": "2.7.6"
  }
 },
 "nbformat": 4,
 "nbformat_minor": 5
}
