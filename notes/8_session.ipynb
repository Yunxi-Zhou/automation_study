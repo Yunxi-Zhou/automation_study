{
 "cells": [
  {
   "metadata": {},
   "cell_type": "markdown",
   "source": [
    "# Session\n",
    "1. 第一次访问服务器，服务器端保存 session id\n",
    "2. session id加密\n",
    "3. 通过 cookie 把 session id 保存至客户端\n",
    "4. 请求服务器时只发送 session id\n",
    "# 问题\n",
    "1. 解决cookie不安全的问题\n",
    "2. 用户量大 导致 服务器崩溃\n",
    "# 服务器集群\n",
    "1. 请求IP捆绑\n",
    "2. sessin复制\n",
    "3. 单点登录\n",
    "# token鉴权 (csrf_token)\n",
    "1. 用户登录，发送token令牌\n",
    "2. 再次登录请求，只需要带上token令牌\n",
    "3. token可以通过抓包抓取\n",
    "# 加密\n",
    "1. 对称加密 DES AES\n",
    "2. RSA\n",
    "3. 只加密不解密 MD5 SHA\n",
    "# token分类\n",
    "1. access_token: time limit 15 min\n",
    "2. refresh_token: 15 days\n",
    "# Difference: cookie, session, token\n",
    "1.  都是用于做鉴权，都是服务器产生\n",
    "2. cookie存储在客户端，session存储在服务器，session的安全性比cookie高\n",
    "3. 重要信息session，其他cookie\n",
    "4. session存在服务器内存，token存在服务器的文件或者数据库中，token比session更省服务器资源\n",
    "5. token只需要在服务器解密"
   ],
   "id": "b529a4ee61bcf4f0"
  }
 ],
 "metadata": {
  "kernelspec": {
   "display_name": "Python 3",
   "language": "python",
   "name": "python3"
  },
  "language_info": {
   "codemirror_mode": {
    "name": "ipython",
    "version": 2
   },
   "file_extension": ".py",
   "mimetype": "text/x-python",
   "name": "python",
   "nbconvert_exporter": "python",
   "pygments_lexer": "ipython2",
   "version": "2.7.6"
  }
 },
 "nbformat": 4,
 "nbformat_minor": 5
}
