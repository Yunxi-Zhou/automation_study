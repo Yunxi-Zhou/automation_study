{
 "cells": [
  {
   "metadata": {},
   "cell_type": "markdown",
   "source": [
    "# Session\n",
    "1. 第一次访问服务器，服务器端保存 session id\n",
    "2. session id加密\n",
    "3. 通过 cookie 把 session id 保存至客户端\n",
    "4. 请求服务器时只发送 session id"
   ],
   "id": "b529a4ee61bcf4f0"
  }
 ],
 "metadata": {
  "kernelspec": {
   "display_name": "Python 3",
   "language": "python",
   "name": "python3"
  },
  "language_info": {
   "codemirror_mode": {
    "name": "ipython",
    "version": 2
   },
   "file_extension": ".py",
   "mimetype": "text/x-python",
   "name": "python",
   "nbconvert_exporter": "python",
   "pygments_lexer": "ipython2",
   "version": "2.7.6"
  }
 },
 "nbformat": 4,
 "nbformat_minor": 5
}
