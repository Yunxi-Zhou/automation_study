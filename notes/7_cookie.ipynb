{
 "cells": [
  {
   "metadata": {},
   "cell_type": "markdown",
   "source": [
    "1. http协议：简单，无连接，无状态。多在请求之前是没有关联的，独立的。\n",
    "2. 淘宝：登陆\n",
    "\n",
    "# Cookie\n",
    "1. cookie在服务器产生的存储在客户端的一小段文本信息。字典，键值对。\n",
    "# Cookie的分类\n",
    "1. 会话级Session：保存内存，浏览器关闭即丢失\n",
    "2. 持久化 with time：保存硬盘，只有当失效时间到了才清除\n",
    "# 如何查看cookie\n",
    "name.value.domain.path.expires.size.\n",
    "# Cookie 如何实现鉴权\n",
    "1. 当客户端第一次访问服务器的时候，服务器会生成Cookie，通过响应头的方式在Set-Cookie传输到客户端\n",
    "2. 客户端从第2-N次请求都会带上Cookie数据\n",
    "# 缺点\n",
    "1. cookie保存在客户端，敏感信息保存不安全"
   ],
   "id": "ef10ba2ed0dc2cf5"
  }
 ],
 "metadata": {
  "kernelspec": {
   "display_name": "Python 3",
   "language": "python",
   "name": "python3"
  },
  "language_info": {
   "codemirror_mode": {
    "name": "ipython",
    "version": 2
   },
   "file_extension": ".py",
   "mimetype": "text/x-python",
   "name": "python",
   "nbconvert_exporter": "python",
   "pygments_lexer": "ipython2",
   "version": "2.7.6"
  }
 },
 "nbformat": 4,
 "nbformat_minor": 5
}
