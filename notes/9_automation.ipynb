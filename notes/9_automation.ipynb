{
 "cells": [
  {
   "metadata": {},
   "cell_type": "markdown",
   "source": [
    "# 自动化层面\n",
    "1. tool: postman, jmeter\n",
    "2. code: 接口关联, cookie token, session token, web自动化用cookie跳过验证码\n",
    "# 第三方支付，银行，金融项目，安全需求\n",
    "# 接口签名： sign, many steps\n",
    "1. tool + code\n",
    "# Q: Why still code will tool like postman and jmeter\n",
    "1. 敏捷，接口巨大\n",
    "2. 工具死板，需要自定义功能\n",
    "3. 一个项目中有多种协议的接口\n",
    "4. 定位问题\n",
    "5. 工具没办法生产allure报告\n",
    "6. 对于复杂的接口，多接口串联，数据库 不方便\n",
    "7. 日志监控\n",
    "8. 接口自动化+web自动化\n",
    "# 深度：接口自动化\n",
    "1. 所有请求必须统一管理\n",
    "2. 封装好接口自动化测试框架之后，功能测试只需要写用例，不需要写代码"
   ],
   "id": "6fc59428930c7f"
  }
 ],
 "metadata": {
  "kernelspec": {
   "display_name": "Python 3",
   "language": "python",
   "name": "python3"
  },
  "language_info": {
   "codemirror_mode": {
    "name": "ipython",
    "version": 2
   },
   "file_extension": ".py",
   "mimetype": "text/x-python",
   "name": "python",
   "nbconvert_exporter": "python",
   "pygments_lexer": "ipython2",
   "version": "2.7.6"
  }
 },
 "nbformat": 4,
 "nbformat_minor": 5
}
