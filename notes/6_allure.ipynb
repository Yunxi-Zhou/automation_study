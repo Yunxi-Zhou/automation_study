{
 "cells": [
  {
   "metadata": {},
   "cell_type": "markdown",
   "source": [
    "# 生成Allure报告\n",
    "1. 下载Allure，配置环境变量\n",
    "2. brew install allure\n",
    "3. brew --prefix allure\n",
    "4. ls /opt/homebrew/opt/allure\n",
    "# 把/opt/homebrew/opt/allure/bin配置到path环境\n",
    "1. echo $PATH\n",
    "2. nano ~/.zshrc\n",
    "3. export PATH=\"/opt/homebrew/opt/allure/bin:$PATH\"\n",
    "4. source ~/.zshrc\n",
    "5. allure --version\n",
    "6. 生成临时allure报告\n",
    "7. 生成html allure报告"
   ],
   "id": "afea59d2cb07ba0c"
  },
  {
   "metadata": {},
   "cell_type": "markdown",
   "source": "",
   "id": "a1c6443669a242f8"
  }
 ],
 "metadata": {
  "kernelspec": {
   "display_name": "Python 3",
   "language": "python",
   "name": "python3"
  },
  "language_info": {
   "codemirror_mode": {
    "name": "ipython",
    "version": 2
   },
   "file_extension": ".py",
   "mimetype": "text/x-python",
   "name": "python",
   "nbconvert_exporter": "python",
   "pygments_lexer": "ipython2",
   "version": "2.7.6"
  }
 },
 "nbformat": 4,
 "nbformat_minor": 5
}
